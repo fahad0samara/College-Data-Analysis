{
 "cells": [
  {
   "cell_type": "markdown",
   "metadata": {},
   "source": [
    "# Global College Statistics Analysis\n",
    "\n",
    "This notebook analyzes the Global College Statistics Dataset to provide insights about educational institutions worldwide."
   ]
  },
  {
   "cell_type": "code",
   "execution_count": null,
   "metadata": {},
   "source": [
    "# Import required libraries\n",
    "import pandas as pd\n",
    "import matplotlib.pyplot as plt\n",
    "import seaborn as sns\n",
    "import numpy as np\n",
    "from scipy import stats\n",
    "\n",
    "# Set style for better visualizations\n",
    "plt.style.use('seaborn')\n",
    "sns.set_palette(\"husl\")\n",
    "plt.rcParams['figure.figsize'] = [12, 8]"
   ]
  },
  {
   "cell_type": "markdown",
   "metadata": {},
   "source": [
    "## Data Loading and Initial Exploration"
   ]
  },
  {
   "cell_type": "code",
   "execution_count": null,
   "metadata": {},
   "source": [
    "# Read the dataset\n",
    "df = pd.read_csv('College Data.csv')\n",
    "\n",
    "# Display basic information about the dataset\n",
    "print(\"Dataset Info:\")\n",
    "df.info()\n",
    "\n",
    "print(\"\\nFirst few rows:\")\n",
    "df.head()"
   ]
  },
  {
   "cell_type": "markdown",
   "metadata": {},
   "source": [
    "## 1. Country Analysis"
   ]
  },
  {
   "cell_type": "code",
   "execution_count": null,
   "metadata": {},
   "source": [
    "# Calculate country statistics\n",
    "country_stats = df.groupby('Country').agg({\n",
    "    'Total Students': 'sum',\n",
    "    'Placement Rate': 'mean',\n",
    "    'CGPA': 'mean',\n",
    "    'Research Papers Published': 'mean',\n",
    "    'Faculty Count': 'mean'\n",
    "}).round(2)\n",
    "\n",
    "# Display top 10 countries by total students\n",
    "country_stats_sorted = country_stats.sort_values('Total Students', ascending=False)\n",
    "country_stats_sorted.head(10)"
   ]
  },
  {
   "cell_type": "markdown",
   "metadata": {},
   "source": [
    "## 2. Branch Analysis"
   ]
  },
  {
   "cell_type": "code",
   "execution_count": null,
   "metadata": {},
   "source": [
    "# Calculate branch performance metrics\n",
    "branch_stats = df.groupby('Branch').agg({\n",
    "    'Total Students': 'sum',\n",
    "    'Placement Rate': 'mean',\n",
    "    'CGPA': 'mean',\n",
    "    'Research Papers Published': 'mean'\n",
    "}).round(2)\n",
    "\n",
    "# Plot branch performance\n",
    "plt.figure(figsize=(15, 8))\n",
    "sns.scatterplot(data=df, x='CGPA', y='Placement Rate', hue='Branch', alpha=0.6)\n",
    "plt.title('CGPA vs Placement Rate by Branch')\n",
    "plt.legend(bbox_to_anchor=(1.05, 1), loc='upper left')\n",
    "plt.tight_layout()\n",
    "plt.show()"
   ]
  },
  {
   "cell_type": "markdown",
   "metadata": {},
   "source": [
    "## 3. Income Analysis"
   ]
  },
  {
   "cell_type": "code",
   "execution_count": null,
   "metadata": {},
   "source": [
    "# Create income brackets and analyze\n",
    "df['Income_Bracket'] = pd.qcut(df['Annual Family Income'], q=5, \n",
    "                              labels=['Very Low', 'Low', 'Medium', 'High', 'Very High'])\n",
    "\n",
    "# Analyze performance metrics by income bracket\n",
    "income_analysis = df.groupby('Income_Bracket').agg({\n",
    "    'CGPA': 'mean',\n",
    "    'Placement Rate': 'mean',\n",
    "    'Research Papers Published': 'mean'\n",
    "}).round(2)\n",
    "\n",
    "# Plot CGPA distribution by income\n",
    "plt.figure(figsize=(12, 6))\n",
    "sns.boxplot(data=df, x='Income_Bracket', y='CGPA')\n",
    "plt.title('CGPA Distribution by Income Bracket')\n",
    "plt.xticks(rotation=45)\n",
    "plt.show()"
   ]
  },
  {
   "cell_type": "markdown",
   "metadata": {},
   "source": [
    "## 4. Gender Analysis"
   ]
  },
  {
   "cell_type": "code",
   "execution_count": null,
   "metadata": {},
   "source": [
    "# Analyze gender distribution by branch\n",
    "gender_branch = df.groupby('Branch').agg({\n",
    "    'Male': 'sum',\n",
    "    'Female': 'sum'\n",
    "})\n",
    "gender_branch['Female_Percentage'] = (gender_branch['Female'] / \n",
    "                                     (gender_branch['Male'] + gender_branch['Female']) * 100).round(2)\n",
    "\n",
    "# Plot gender distribution\n",
    "plt.figure(figsize=(15, 8))\n",
    "sns.barplot(data=gender_branch.reset_index(), x='Branch', y='Female_Percentage')\n",
    "plt.title('Female Representation by Branch (%)')\n",
    "plt.xticks(rotation=45)\n",
    "plt.show()"
   ]
  },
  {
   "cell_type": "markdown",
   "metadata": {},
   "source": [
    "## 5. Research Impact Analysis"
   ]
  },
  {
   "cell_type": "code",
   "execution_count": null,
   "metadata": {},
   "source": [
    "# Analyze research impact\n",
    "research_corr = df[['Research Papers Published', 'Placement Rate', \n",
    "                    'CGPA', 'Faculty Count']].corr()['Research Papers Published']\n",
    "\n",
    "# Plot research impact on placement\n",
    "plt.figure(figsize=(10, 6))\n",
    "sns.regplot(data=df, x='Research Papers Published', y='Placement Rate', \n",
    "            scatter_kws={'alpha':0.5})\n",
    "plt.title('Impact of Research Papers on Placement Rate')\n",
    "plt.show()"
   ]
  },
  {
   "cell_type": "markdown",
   "metadata": {},
   "source": [
    "## 6. Faculty Analysis"
   ]
  },
  {
   "cell_type": "code",
   "execution_count": null,
   "metadata": {},
   "source": [
    "# Calculate and analyze student-faculty ratio\n",
    "df['Student_Faculty_Ratio'] = df['Total Students'] / df['Faculty Count']\n",
    "faculty_analysis = df.groupby('Branch')['Student_Faculty_Ratio'].agg(['mean', 'min', 'max']).round(2)\n",
    "\n",
    "# Plot impact on CGPA\n",
    "plt.figure(figsize=(10, 6))\n",
    "sns.scatterplot(data=df, x='Student_Faculty_Ratio', y='CGPA', alpha=0.5)\n",
    "plt.title('Impact of Student-Faculty Ratio on CGPA')\n",
    "plt.show()"
   ]
  },
  {
   "cell_type": "markdown",
   "metadata": {},
   "source": [
    "## Summary of Key Findings"
   ]
  },
  {
   "cell_type": "code",
   "execution_count": null,
   "metadata": {},
   "source": [
    "print(\"Key Findings:\")\n",
    "print(f\"Total number of colleges analyzed: {len(df)}\")\n",
    "print(f\"Average placement rate: {df['Placement Rate'].mean():.2f}%\")\n",
    "print(f\"Average CGPA: {df['CGPA'].mean():.2f}\")\n",
    "print(f\"Country with most colleges: {df['Country'].value_counts().index[0]}\")\n",
    "print(f\"Most common branch: {df['Branch'].value_counts().index[0]}\")\n",
    "print(f\"Average Student-Faculty Ratio: {df['Student_Faculty_Ratio'].mean():.2f}\")"
   ]
  }
 ],
 "metadata": {
  "kernelspec": {
   "display_name": "Python 3",
   "language": "python",
   "name": "python3"
  },
  "language_info": {
   "codemirror_mode": {
    "name": "ipython",
    "version": 3
   },
   "file_extension": ".py",
   "mimetype": "text/x-python",
   "name": "python",
   "nbconvert_exporter": "python",
   "pygments_lexer": "ipython3",
   "version": "3.8.0"
  }
 },
 "nbformat": 4,
 "nbformat_minor": 4
}
